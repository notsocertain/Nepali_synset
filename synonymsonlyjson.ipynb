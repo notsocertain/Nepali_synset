{
 "cells": [
  {
   "cell_type": "code",
   "execution_count": 36,
   "id": "51c55ed3",
   "metadata": {},
   "outputs": [],
   "source": [
    "import json"
   ]
  },
  {
   "cell_type": "code",
   "execution_count": 37,
   "id": "0fce41d5",
   "metadata": {},
   "outputs": [],
   "source": [
    "import json\n",
    "\n",
    "with open('sabdakosh.json') as f:\n",
    "    data = json.load(f)"
   ]
  },
  {
   "cell_type": "code",
   "execution_count": 55,
   "id": "4821b40c",
   "metadata": {},
   "outputs": [
    {
     "name": "stdout",
     "output_type": "stream",
     "text": [
      "अँ\n",
      "Senses:\n"
     ]
    }
   ],
   "source": [
    "# Extract the first word\n",
    "first_word = data[2]['word']\n",
    "first_word_senses = data[2]['definitions'][0]['senses']\n",
    "\n",
    "# Print the first word\n",
    "print(first_word)\n",
    "print(\"Senses:\")\n"
   ]
  },
  {
   "cell_type": "code",
   "execution_count": 44,
   "id": "8f93c5c6",
   "metadata": {},
   "outputs": [
    {
     "name": "stdout",
     "output_type": "stream",
     "text": [
      "Word: अगस्त\n",
      "Word: अगस्ति\n",
      "Word: अगस्ति गोत्र\n",
      "Word: अगस्त्य\n",
      "Word: अगस्त्य गीता\n",
      "Word: अगस्त्योदय\n",
      "Word: अगहन\n",
      "Word: अगहनी\n",
      "Word: अगहनी धान\n",
      "Word: अगा\n",
      "Word: अगाउनु\n",
      "Word: अगाडि\n",
      "Word: अगाडी\n",
      "Word: अगात्र\n",
      "Word: अगाध\n",
      "Word: अगाध गाम्भीर्य\n",
      "Word: अगाध शक्ति\n",
      "Word: अगार\n",
      "Word: अगावै\n",
      "Word: अगास\n",
      "Word: अगासिनु\n",
      "Word: अगि\n",
      "Word: अगि अगि\n",
      "Word: अगिचालो\n",
      "Word: अगिन\n",
      "Word: अगिन्नर पछिन्नर\n",
      "Word: अगिन्नरो\n",
      "Word: अगिन्नो\n",
      "Word: अगिया खर\n",
      "Word: अगियारी\n",
      "Word: अगिल्तिर\n",
      "Word: अगिल्ली\n",
      "Word: अगिल्लो\n",
      "Word: अगिसरा\n",
      "Word: अगुण ब्रह्म\n",
      "Word: अगुणित\n",
      "Word: अगुणी\n",
      "Word: अगुप्त\n",
      "Word: अगुरु\n",
      "Word: अगुरुत्वाकर्षी\n",
      "Word: अगुल्टो\n",
      "Word: अगुवा\n",
      "Word: अगुवाइ\n",
      "Word: अगूढ\n",
      "Word: अगूढ गन्ध\n",
      "Word: अगेउल\n",
      "Word: अगेटो\n",
      "Word: अगेट्ठा\n",
      "Word: अगेठो\n",
      "Word: अगेडुलो\n",
      "- शरीर पुछ्ने वा कछाडजस्तो गरी बेरिने रुमाल; गम्छा; उपर्ना।\n"
     ]
    }
   ],
   "source": [
    "\n",
    "for i in range(599,649):\n",
    "    first_word = data[i]['word']\n",
    "    #first_word_senses = data[i]['definitions'][0]['senses']\n",
    "\n",
    "# Print the first word and its senses\n",
    "    print(\"Word:\", first_word)\n",
    "    #print(\"Senses:\")\n",
    "for sense in first_word_senses:\n",
    "    print(\"-\", sense)\n"
   ]
  },
  {
   "cell_type": "code",
   "execution_count": 52,
   "id": "28878607",
   "metadata": {},
   "outputs": [
    {
     "name": "stdout",
     "output_type": "stream",
     "text": [
      "Word: अगेटो\n",
      "Qualifying Senses:\n",
      "Word: अगेट्ठा\n",
      "Qualifying Senses:\n",
      "Word: अगेठो\n",
      "Qualifying Senses:\n",
      "Word: अगेडुलो\n",
      "Qualifying Senses:\n"
     ]
    }
   ],
   "source": [
    "\n",
    "for i in range(645,649):\n",
    "    # Extract the word and qualifying senses\n",
    "    word = data[i]['word']\n",
    "    senses = data[i]['definitions'][0]['senses']\n",
    "    qualifying_senses = []\n",
    "\n",
    "    for sense in senses:\n",
    "        split_senses = sense.split(',')\n",
    "        for split_sense in split_senses:\n",
    "            if ';' in split_sense:\n",
    "                semi_colon_senses = split_sense.split(';')\n",
    "                qualifying_senses.extend([s for s in semi_colon_senses if len(s.split()) == 1])\n",
    "            elif len(split_sense.split()) == 1:\n",
    "                qualifying_senses.append(split_sense)\n",
    "\n",
    "    # Print the word and qualifying senses\n",
    "    print(\"Word:\", word)\n",
    "    print(\"Qualifying Senses:\")\n",
    "for sense in qualifying_senses:\n",
    "    print(\"-\", sense)\n"
   ]
  },
  {
   "cell_type": "code",
   "execution_count": 53,
   "id": "ce264321",
   "metadata": {},
   "outputs": [
    {
     "name": "stdout",
     "output_type": "stream",
     "text": [
      "Word: अकच\n",
      "Qualifying Senses:\n",
      "-  केतु।\n",
      "-  खुइले।\n"
     ]
    }
   ],
   "source": [
    "import json\n",
    "\n",
    "# JSON data\n",
    "json_data = '''\n",
    "{\n",
    "  \"word\": \"अकच\",\n",
    "  \"definitions\": [\n",
    "    {\n",
    "      \"grammar\": \"वि.\",\n",
    "      \"etymology\": \"[सं.]\",\n",
    "      \"senses\": [\n",
    "        \"१. नौ ग्रहमध्ये पछिल्लो ग्रह; केतु।, अन्यथा ग्रहमध्ये पछिल्लो ग्रह र अक्षिगृह।\",\n",
    "        \"२. कपाल हुँदै नभएको मुडुलो; खुइले।\"\n",
    "      ]\n",
    "    }\n",
    "  ]\n",
    "}\n",
    "'''\n",
    "\n",
    "# Parse the JSON data\n",
    "data = json.loads(json_data)\n",
    "\n",
    "# Extract the word and qualifying senses\n",
    "word = data['word']\n",
    "senses = data['definitions'][0]['senses']\n",
    "qualifying_senses = []\n",
    "\n",
    "for sense in senses:\n",
    "    split_senses = sense.split(',')\n",
    "    for split_sense in split_senses:\n",
    "        if ';' in split_sense:\n",
    "            semi_colon_senses = split_sense.split(';')\n",
    "            qualifying_senses.extend([s for s in semi_colon_senses if len(s.split()) == 1])\n",
    "        elif len(split_sense.split()) == 1:\n",
    "            qualifying_senses.append(split_sense)\n",
    "\n",
    "# Print the word and qualifying senses\n",
    "print(\"Word:\", word)\n",
    "print(\"Qualifying Senses:\")\n",
    "for sense in qualifying_senses:\n",
    "    print(\"-\", sense)\n"
   ]
  },
  {
   "cell_type": "code",
   "execution_count": 54,
   "id": "45a0600b",
   "metadata": {},
   "outputs": [
    {
     "name": "stdout",
     "output_type": "stream",
     "text": [
      "Word: अ\n",
      "Qualifying Senses:\n",
      "-----------------------\n",
      "Word: अ:\n",
      "Qualifying Senses:\n",
      "- निकै\n",
      "-  अति।\n",
      "-----------------------\n",
      "Word: अँ\n",
      "Qualifying Senses:\n",
      "- स्वीकार\n",
      "-  सम्झना\n",
      "-  आश्चर्य\n",
      "-  उपेक्षा\n",
      "-  प्रसन्नता\n",
      "-----------------------\n",
      "Word: अँ त\n",
      "Qualifying Senses:\n",
      "-----------------------\n",
      "Word: अँ नाइँ\n",
      "Qualifying Senses:\n",
      "-----------------------\n",
      "Word: अँ हो\n",
      "Qualifying Senses:\n",
      "-----------------------\n",
      "Word: अँएरो\n",
      "Qualifying Senses:\n",
      "-  अम्रो।\n",
      "-----------------------\n",
      "Word: अँकरा\n",
      "Qualifying Senses:\n",
      "-  कुटुलीकोसा।\n",
      "-----------------------\n",
      "Word: अँकवार\n",
      "Qualifying Senses:\n",
      "- अँगालो\n",
      "-----------------------\n",
      "Word: अँका\n",
      "Qualifying Senses:\n",
      "-----------------------\n"
     ]
    }
   ],
   "source": [
    "import json\n",
    "\n",
    "# Load the JSON file\n",
    "with open('Sabdakosh.json') as file:\n",
    "    data = json.load(file)\n",
    "\n",
    "# Iterate over the first 10 data elements\n",
    "for i in range(10):\n",
    "    current_data = data[i]\n",
    "    word = current_data['word']\n",
    "    senses = current_data['definitions'][0]['senses']\n",
    "    qualifying_senses = []\n",
    "\n",
    "    for sense in senses:\n",
    "        split_senses = sense.split(',')\n",
    "        for split_sense in split_senses:\n",
    "            if ';' in split_sense:\n",
    "                semi_colon_senses = split_sense.split(';')\n",
    "                qualifying_senses.extend([s for s in semi_colon_senses if len(s.split()) == 1])\n",
    "            elif len(split_sense.split()) == 1:\n",
    "                qualifying_senses.append(split_sense)\n",
    "\n",
    "    # Print the word and qualifying senses\n",
    "    print(\"Word:\", word)\n",
    "    print(\"Qualifying Senses:\")\n",
    "    for sense in qualifying_senses:\n",
    "        print(\"-\", sense)\n",
    "    print(\"-----------------------\")\n"
   ]
  },
  {
   "cell_type": "code",
   "execution_count": 56,
   "id": "451096a6",
   "metadata": {},
   "outputs": [],
   "source": [
    "import json\n",
    "\n",
    "# Load the JSON file\n",
    "with open('Sabdakosh.json') as file:\n",
    "    data = json.load(file)\n",
    "\n",
    "output_data = []\n",
    "\n",
    "# Iterate over the first 10 data elements\n",
    "for i in range(10):\n",
    "    current_data = data[i]\n",
    "    word = current_data['word']\n",
    "    senses = current_data['definitions'][0]['senses']\n",
    "    qualifying_senses = []\n",
    "\n",
    "    for sense in senses:\n",
    "        split_senses = sense.split(',')\n",
    "        for split_sense in split_senses:\n",
    "            if ';' in split_sense:\n",
    "                semi_colon_senses = split_sense.split(';')\n",
    "                qualifying_senses.extend([s for s in semi_colon_senses if len(s.split()) == 1])\n",
    "            elif len(split_sense.split()) == 1:\n",
    "                qualifying_senses.append(split_sense)\n",
    "\n",
    "    # Create a dictionary for the current data element\n",
    "    output_element = {\n",
    "        'word': word,\n",
    "        'synonyms': qualifying_senses\n",
    "    }\n",
    "\n",
    "    # Append the output element to the list\n",
    "    output_data.append(output_element)\n",
    "\n",
    "# Save the output data to a new JSON file\n",
    "with open('output.json', 'w') as file:\n",
    "    json.dump(output_data, file, ensure_ascii=False, indent=4)\n"
   ]
  },
  {
   "cell_type": "code",
   "execution_count": 57,
   "id": "40350f8e",
   "metadata": {},
   "outputs": [],
   "source": [
    "import json\n",
    "\n",
    "# Load the JSON file\n",
    "with open('Sabdakosh.json') as file:\n",
    "    data = json.load(file)\n",
    "\n",
    "output_data = []\n",
    "\n",
    "# Iterate over all data elements\n",
    "for entry in data:\n",
    "    word = entry['word']\n",
    "    senses = entry['definitions'][0]['senses']\n",
    "    qualifying_senses = []\n",
    "\n",
    "    for sense in senses:\n",
    "        split_senses = sense.split(',')\n",
    "        for split_sense in split_senses:\n",
    "            if ';' in split_sense:\n",
    "                semi_colon_senses = split_sense.split(';')\n",
    "                qualifying_senses.extend([s for s in semi_colon_senses if len(s.strip().split()) == 1])\n",
    "            elif len(split_sense.strip().split()) == 1:\n",
    "                qualifying_senses.append(split_sense.strip())\n",
    "\n",
    "    # Create a dictionary for the current data element\n",
    "    output_element = {\n",
    "        'word': word,\n",
    "        'synonyms': qualifying_senses\n",
    "    }\n",
    "\n",
    "    # Append the output element to the list\n",
    "    output_data.append(output_element)\n",
    "\n",
    "# Save the output data to a new JSON file\n",
    "with open('output.json', 'w') as file:\n",
    "    json.dump(output_data, file, ensure_ascii=False, indent=4)\n"
   ]
  },
  {
   "cell_type": "code",
   "execution_count": 58,
   "id": "ffa2a245",
   "metadata": {},
   "outputs": [
    {
     "name": "stdout",
     "output_type": "stream",
     "text": [
      "\u001b[33mDEPRECATION: Configuring installation scheme with distutils config files is deprecated and will no longer work in the near future. If you are using a Homebrew or Linuxbrew Python, please see discussion at https://github.com/Homebrew/homebrew-core/issues/76621\u001b[0m\u001b[33m\n",
      "\u001b[0mCollecting pygtrie\n",
      "  Downloading pygtrie-2.5.0-py3-none-any.whl (25 kB)\n",
      "Installing collected packages: pygtrie\n",
      "\u001b[33m  DEPRECATION: Configuring installation scheme with distutils config files is deprecated and will no longer work in the near future. If you are using a Homebrew or Linuxbrew Python, please see discussion at https://github.com/Homebrew/homebrew-core/issues/76621\u001b[0m\u001b[33m\n",
      "\u001b[0m\u001b[33mDEPRECATION: Configuring installation scheme with distutils config files is deprecated and will no longer work in the near future. If you are using a Homebrew or Linuxbrew Python, please see discussion at https://github.com/Homebrew/homebrew-core/issues/76621\u001b[0m\u001b[33m\n",
      "\u001b[0mSuccessfully installed pygtrie-2.5.0\n",
      "\n",
      "\u001b[1m[\u001b[0m\u001b[34;49mnotice\u001b[0m\u001b[1;39;49m]\u001b[0m\u001b[39;49m A new release of pip is available: \u001b[0m\u001b[31;49m23.0\u001b[0m\u001b[39;49m -> \u001b[0m\u001b[32;49m23.1.2\u001b[0m\n",
      "\u001b[1m[\u001b[0m\u001b[34;49mnotice\u001b[0m\u001b[1;39;49m]\u001b[0m\u001b[39;49m To update, run: \u001b[0m\u001b[32;49mpython3.9 -m pip install --upgrade pip\u001b[0m\n",
      "Note: you may need to restart the kernel to use updated packages.\n"
     ]
    }
   ],
   "source": [
    "pip install pygtrie\n"
   ]
  },
  {
   "cell_type": "code",
   "execution_count": 90,
   "id": "581bc8e4",
   "metadata": {},
   "outputs": [],
   "source": [
    "import json\n",
    "from pygtrie import Trie\n",
    "\n",
    "# Load the JSON file\n",
    "with open('output.json') as file:\n",
    "    data = json.load(file)\n",
    "\n",
    "# Create a Trie data structure\n",
    "trie = Trie()\n",
    "\n",
    "# Iterate over all data elements\n",
    "for entry in data:\n",
    "    word = entry['word']\n",
    "    synonyms = entry['synonyms']\n",
    "\n",
    "    # Insert the word and its qualifying senses into the Trie\n",
    "    trie[word] = synonyms\n"
   ]
  },
  {
   "cell_type": "code",
   "execution_count": 91,
   "id": "9598ccfe",
   "metadata": {},
   "outputs": [
    {
     "name": "stdout",
     "output_type": "stream",
     "text": [
      "Word: आज्ञाकारी\n",
      "Synonyms:\n",
      "-  आज्ञापालक।\n"
     ]
    }
   ],
   "source": [
    "# Search for a word in the Trie\n",
    "search_word = \"आज्ञाकारी\"\n",
    "synonyms = trie.get(search_word)\n",
    "\n",
    "# Print the word and its qualifying senses\n",
    "if synonyms is not None:\n",
    "    print(\"Word:\", search_word)\n",
    "    print(\"Synonyms:\")\n",
    "    for sense in synonyms:\n",
    "        print(\"-\", sense)\n",
    "else:\n",
    "    print(\"Word not found in the Trie.\")\n"
   ]
  },
  {
   "cell_type": "code",
   "execution_count": 94,
   "id": "fc0f6355",
   "metadata": {},
   "outputs": [
    {
     "name": "stdout",
     "output_type": "stream",
     "text": [
      "Enter any word to find synonyms\n",
      "निशान्त\n",
      "Synonyms:\n",
      "-  बिहान।\n",
      "-  भवन।\n"
     ]
    }
   ],
   "source": [
    "print(\"Enter any word to find synonyms\")\n",
    "search_word=input()\n",
    "synonyms = trie.get(search_word)\n",
    "\n",
    "# Print the word and its synonyms\n",
    "if synonyms is not None:\n",
    "    #print(\"Word:\", search_word)\n",
    "    print(\"Synonyms:\")\n",
    "    for sense in synonyms:\n",
    "        print(\"-\", sense)\n",
    "else:\n",
    "    print(\"Word not found in the Dictionary.\")"
   ]
  },
  {
   "cell_type": "code",
   "execution_count": null,
   "id": "978d2efe",
   "metadata": {},
   "outputs": [],
   "source": []
  }
 ],
 "metadata": {
  "kernelspec": {
   "display_name": "Python 3 (ipykernel)",
   "language": "python",
   "name": "python3"
  },
  "language_info": {
   "codemirror_mode": {
    "name": "ipython",
    "version": 3
   },
   "file_extension": ".py",
   "mimetype": "text/x-python",
   "name": "python",
   "nbconvert_exporter": "python",
   "pygments_lexer": "ipython3",
   "version": "3.9.13"
  }
 },
 "nbformat": 4,
 "nbformat_minor": 5
}
