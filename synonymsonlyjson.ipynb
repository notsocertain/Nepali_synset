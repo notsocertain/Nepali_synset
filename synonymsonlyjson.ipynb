{
 "cells": [
  {
   "cell_type": "code",
   "execution_count": 1,
   "id": "51c55ed3",
   "metadata": {},
   "outputs": [],
   "source": [
    "import json"
   ]
  },
  {
   "cell_type": "code",
   "execution_count": 57,
   "id": "40350f8e",
   "metadata": {},
   "outputs": [],
   "source": [
    "import json\n",
    "\n",
    "# Load the JSON file\n",
    "with open('Sabdakosh.json') as file:\n",
    "    data = json.load(file)\n",
    "\n",
    "output_data = []\n",
    "\n",
    "# Iterate over all data elements\n",
    "for entry in data:\n",
    "    word = entry['word']\n",
    "    senses = entry['definitions'][0]['senses']\n",
    "    qualifying_senses = []\n",
    "\n",
    "    for sense in senses:\n",
    "        split_senses = sense.split(',')\n",
    "        for split_sense in split_senses:\n",
    "            if ';' in split_sense:\n",
    "                semi_colon_senses = split_sense.split(';')\n",
    "                qualifying_senses.extend([s for s in semi_colon_senses if len(s.strip().split()) == 1])\n",
    "            elif len(split_sense.strip().split()) == 1:\n",
    "                qualifying_senses.append(split_sense.strip())\n",
    "\n",
    "    # Create a dictionary for the current data element\n",
    "    output_element = {\n",
    "        'word': word,\n",
    "        'synonyms': qualifying_senses\n",
    "    }\n",
    "\n",
    "    # Append the output element to the list\n",
    "    output_data.append(output_element)\n",
    "\n",
    "# Save the output data to a new JSON file\n",
    "with open('output.json', 'w') as file:\n",
    "    json.dump(output_data, file, ensure_ascii=False, indent=4)\n"
   ]
  },
  {
   "cell_type": "code",
   "execution_count": 58,
   "id": "ffa2a245",
   "metadata": {},
   "outputs": [
    {
     "name": "stdout",
     "output_type": "stream",
     "text": [
      "\u001b[33mDEPRECATION: Configuring installation scheme with distutils config files is deprecated and will no longer work in the near future. If you are using a Homebrew or Linuxbrew Python, please see discussion at https://github.com/Homebrew/homebrew-core/issues/76621\u001b[0m\u001b[33m\n",
      "\u001b[0mCollecting pygtrie\n",
      "  Downloading pygtrie-2.5.0-py3-none-any.whl (25 kB)\n",
      "Installing collected packages: pygtrie\n",
      "\u001b[33m  DEPRECATION: Configuring installation scheme with distutils config files is deprecated and will no longer work in the near future. If you are using a Homebrew or Linuxbrew Python, please see discussion at https://github.com/Homebrew/homebrew-core/issues/76621\u001b[0m\u001b[33m\n",
      "\u001b[0m\u001b[33mDEPRECATION: Configuring installation scheme with distutils config files is deprecated and will no longer work in the near future. If you are using a Homebrew or Linuxbrew Python, please see discussion at https://github.com/Homebrew/homebrew-core/issues/76621\u001b[0m\u001b[33m\n",
      "\u001b[0mSuccessfully installed pygtrie-2.5.0\n",
      "\n",
      "\u001b[1m[\u001b[0m\u001b[34;49mnotice\u001b[0m\u001b[1;39;49m]\u001b[0m\u001b[39;49m A new release of pip is available: \u001b[0m\u001b[31;49m23.0\u001b[0m\u001b[39;49m -> \u001b[0m\u001b[32;49m23.1.2\u001b[0m\n",
      "\u001b[1m[\u001b[0m\u001b[34;49mnotice\u001b[0m\u001b[1;39;49m]\u001b[0m\u001b[39;49m To update, run: \u001b[0m\u001b[32;49mpython3.9 -m pip install --upgrade pip\u001b[0m\n",
      "Note: you may need to restart the kernel to use updated packages.\n"
     ]
    }
   ],
   "source": [
    "pip install pygtrie\n"
   ]
  },
  {
   "cell_type": "code",
   "execution_count": 2,
   "id": "581bc8e4",
   "metadata": {},
   "outputs": [],
   "source": [
    "import json\n",
    "from pygtrie import Trie\n",
    "\n",
    "# Load the JSON file\n",
    "with open('output.json') as file:\n",
    "    data = json.load(file)\n",
    "\n",
    "# Create a Trie data structure\n",
    "trie = Trie()\n",
    "\n",
    "# Iterate over all data elements\n",
    "for entry in data:\n",
    "    word = entry['word']\n",
    "    synonyms = entry['synonyms']\n",
    "\n",
    "    # Insert the word and its qualifying senses into the Trie\n",
    "    trie[word] = synonyms\n"
   ]
  },
  {
   "cell_type": "code",
   "execution_count": 13,
   "id": "9598ccfe",
   "metadata": {},
   "outputs": [
    {
     "name": "stdout",
     "output_type": "stream",
     "text": [
      "Word: खप्पर\n",
      "Synonyms:\n",
      "-  भिक्षापात्र।\n",
      "-  कपाल\n",
      "-  खोपडी।\n",
      "-  किस्मत।\n"
     ]
    }
   ],
   "source": [
    "# Search for a word in the Trie\n",
    "search_word = \"खप्पर\"\n",
    "synonyms = trie.get(search_word)\n",
    "\n",
    "# Print the word and its qualifying senses\n",
    "if synonyms is not None:\n",
    "    print(\"Word:\", search_word)\n",
    "    print(\"Synonyms:\")\n",
    "    for sense in synonyms:\n",
    "        print(\"-\", sense)\n",
    "else:\n",
    "    print(\"Word not found in the Trie.\")\n"
   ]
  },
  {
   "cell_type": "code",
   "execution_count": 14,
   "id": "fc0f6355",
   "metadata": {},
   "outputs": [
    {
     "name": "stdout",
     "output_type": "stream",
     "text": [
      "Enter any word to find synonyms\n",
      "खोपडी\n",
      "Synonyms:\n",
      "-  खप्पर।\n",
      "-  शिर।\n",
      "-  मस्तिष्क।\n"
     ]
    }
   ],
   "source": [
    "print(\"Enter any word to find synonyms\")\n",
    "search_word=input()\n",
    "synonyms = trie.get(search_word)\n",
    "\n",
    "# Print the word and its synonyms\n",
    "if synonyms is not None:\n",
    "    #print(\"Word:\", search_word)\n",
    "    print(\"Synonyms:\")\n",
    "    for sense in synonyms:\n",
    "        print(\"-\", sense)\n",
    "else:\n",
    "    print(\"Word not found in the Dictionary.\")"
   ]
  },
  {
   "cell_type": "code",
   "execution_count": null,
   "id": "978d2efe",
   "metadata": {},
   "outputs": [],
   "source": []
  }
 ],
 "metadata": {
  "kernelspec": {
   "display_name": "Python 3 (ipykernel)",
   "language": "python",
   "name": "python3"
  },
  "language_info": {
   "codemirror_mode": {
    "name": "ipython",
    "version": 3
   },
   "file_extension": ".py",
   "mimetype": "text/x-python",
   "name": "python",
   "nbconvert_exporter": "python",
   "pygments_lexer": "ipython3",
   "version": "3.9.13"
  }
 },
 "nbformat": 4,
 "nbformat_minor": 5
}
