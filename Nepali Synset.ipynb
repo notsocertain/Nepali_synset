{
 "cells": [
  {
   "cell_type": "markdown",
   "id": "0e1956fe",
   "metadata": {},
   "source": [
    "# Storing output.json in Trie Data structure : Time complexity O(n) for searching"
   ]
  },
  {
   "cell_type": "code",
   "execution_count": 1,
   "id": "26b4139c",
   "metadata": {},
   "outputs": [],
   "source": [
    "import json\n",
    "import pygtrie\n",
    "from pygtrie import Trie\n",
    "\n",
    "# Load the JSON file\n",
    "with open('output.json', encoding = 'utf-8') as file:\n",
    "    data = json.load(file)\n",
    "\n",
    "# Create a Trie data structure\n",
    "trie = Trie()\n",
    "\n",
    " # Iterate over all data elements\n",
    "for entry in data:\n",
    "    word = entry['word']\n",
    "    synonyms = entry['synonyms']\n",
    "    # Insert the word and its qualifying senses into the Trie\n",
    "    trie[word] = synonyms"
   ]
  },
  {
   "cell_type": "markdown",
   "id": "5bcc9025",
   "metadata": {},
   "source": [
    "## searching synonyms for inital synonyms once"
   ]
  },
  {
   "cell_type": "code",
   "execution_count": 2,
   "id": "c43a7812",
   "metadata": {},
   "outputs": [],
   "source": [
    "# calling data structure to search for synonyms\n",
    "def search_synonyms(word):\n",
    "    if word in trie:\n",
    "        return trie.get(word, None)\n",
    "    \n",
    "#there's a gap in front of all words in output.json file    \n",
    "def remove_spaces_from_list_elements(input_list):\n",
    "    return [word.replace(' ', '') for word in input_list if word]\n",
    "\n",
    "def get_all_synonyms(search_word):\n",
    "\n",
    "    synonyms = search_synonyms(search_word)\n",
    "    all_synonyms = []\n",
    "    \n",
    "\n",
    "    if synonyms is None:\n",
    "        return [search_word]\n",
    "    else:\n",
    "        all_synonyms.extend(synonyms)\n",
    "        synonyms = remove_spaces_from_list_elements(synonyms)\n",
    "        for word in synonyms:\n",
    "            if word:\n",
    "                synonyms_list = trie.get(word, None)\n",
    "                if synonyms_list is not None:\n",
    "                    all_synonyms.extend(synonyms_list)\n",
    "\n",
    "        all_synonyms = remove_spaces_from_list_elements(all_synonyms)\n",
    "        all_synonyms.append(search_word)\n",
    "        all_synonyms = list(set(all_synonyms))\n",
    "\n",
    "    return all_synonyms"
   ]
  },
  {
   "cell_type": "code",
   "execution_count": 5,
   "id": "7d5c3714",
   "metadata": {},
   "outputs": [
    {
     "data": {
      "text/plain": [
       "['अद्भुत',\n",
       " 'विचित्रको',\n",
       " 'सुन्दर',\n",
       " 'अनौठो',\n",
       " 'असाधारण',\n",
       " 'रङ्गीचङ्गी',\n",
       " 'गजबको',\n",
       " 'रङ्गीबिरङ्गी',\n",
       " 'मनोहर',\n",
       " 'विचित्र',\n",
       " 'अचम्मको',\n",
       " 'विलक्षण']"
      ]
     },
     "execution_count": 5,
     "metadata": {},
     "output_type": "execute_result"
    }
   ],
   "source": [
    "get_all_synonyms('अनौठो')"
   ]
  },
  {
   "cell_type": "markdown",
   "id": "c13606a1",
   "metadata": {},
   "source": [
    "### code returns the input word as output to avoid error even if not available in data structure"
   ]
  },
  {
   "cell_type": "code",
   "execution_count": 6,
   "id": "652e6b89",
   "metadata": {},
   "outputs": [
    {
     "data": {
      "text/plain": [
       "['asdfg']"
      ]
     },
     "execution_count": 6,
     "metadata": {},
     "output_type": "execute_result"
    }
   ],
   "source": [
    "get_all_synonyms('asdfg')"
   ]
  }
 ],
 "metadata": {
  "kernelspec": {
   "display_name": "Python 3 (ipykernel)",
   "language": "python",
   "name": "python3"
  },
  "language_info": {
   "codemirror_mode": {
    "name": "ipython",
    "version": 3
   },
   "file_extension": ".py",
   "mimetype": "text/x-python",
   "name": "python",
   "nbconvert_exporter": "python",
   "pygments_lexer": "ipython3",
   "version": "3.9.17"
  }
 },
 "nbformat": 4,
 "nbformat_minor": 5
}
