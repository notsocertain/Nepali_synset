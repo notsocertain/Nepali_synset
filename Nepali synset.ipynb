{
 "cells": [
  {
   "cell_type": "code",
   "execution_count": 1,
   "id": "698a8972",
   "metadata": {},
   "outputs": [],
   "source": [
    "import json\n",
    "from pygtrie import Trie\n",
    "\n",
    "# Load the JSON file\n",
    "with open('output.json') as file:\n",
    "    data = json.load(file)\n",
    "\n",
    "# Create a Trie data structure\n",
    "trie = Trie()\n",
    "\n",
    "# Iterate over all data elements\n",
    "for entry in data:\n",
    "    word = entry['word']\n",
    "    synonyms = entry['synonyms']\n",
    "\n",
    "    # Insert the word and its qualifying senses into the Trie\n",
    "    trie[word] = synonyms\n"
   ]
  },
  {
   "cell_type": "code",
   "execution_count": 8,
   "id": "fa66c237",
   "metadata": {},
   "outputs": [
    {
     "name": "stdout",
     "output_type": "stream",
     "text": [
      "अस्पष्ट\n",
      "['अनिश्चित', 'शङ्कास्पद']\n"
     ]
    }
   ],
   "source": [
    "def remove_spaces_from_list_elements(input_list):\n",
    "    return [word.replace(' ', '') for word in input_list if word]\n",
    "\n",
    "def search_synonyms(word):\n",
    "    if word in trie:\n",
    "        return trie.get(word, None)\n",
    "\n",
    "search_word = input()\n",
    "synonyms= search_synonyms(search_word)\n",
    "if synonyms is None:\n",
    "    print(\"Word not found in the Dictionary.\")\n",
    "\n",
    "else:\n",
    "    synonyms=remove_spaces_from_list_elements(synonyms)\n",
    "    all=[]\n",
    "    for word in synonyms:\n",
    "        if word:\n",
    "            synonyms = trie.get(word, None)\n",
    "\n",
    "            # Print the word and its synonyms\n",
    "            if synonyms is not None:\n",
    "                for sense in synonyms:\n",
    "                    all.append(sense)\n",
    "\n",
    "    all=remove_spaces_from_list_elements(all)\n",
    "    all=list(set(all))\n",
    "    print(all)\n"
   ]
  },
  {
   "cell_type": "code",
   "execution_count": null,
   "id": "dd44c61b",
   "metadata": {},
   "outputs": [],
   "source": []
  }
 ],
 "metadata": {
  "kernelspec": {
   "display_name": "Python 3 (ipykernel)",
   "language": "python",
   "name": "python3"
  },
  "language_info": {
   "codemirror_mode": {
    "name": "ipython",
    "version": 3
   },
   "file_extension": ".py",
   "mimetype": "text/x-python",
   "name": "python",
   "nbconvert_exporter": "python",
   "pygments_lexer": "ipython3",
   "version": "3.9.17"
  }
 },
 "nbformat": 4,
 "nbformat_minor": 5
}
